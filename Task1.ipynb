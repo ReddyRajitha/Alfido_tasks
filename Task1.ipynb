{
  "nbformat": 4,
  "nbformat_minor": 0,
  "metadata": {
    "colab": {
      "provenance": [],
      "authorship_tag": "ABX9TyNrV3iqcARSFSiX7QhGKM5P",
      "include_colab_link": true
    },
    "kernelspec": {
      "name": "python3",
      "display_name": "Python 3"
    },
    "language_info": {
      "name": "python"
    }
  },
  "cells": [
    {
      "cell_type": "markdown",
      "metadata": {
        "id": "view-in-github",
        "colab_type": "text"
      },
      "source": [
        "<a href=\"https://colab.research.google.com/github/ReddyRajitha/Alfido_tasks/blob/main/Task1.ipynb\" target=\"_parent\"><img src=\"https://colab.research.google.com/assets/colab-badge.svg\" alt=\"Open In Colab\"/></a>"
      ]
    },
    {
      "cell_type": "code",
      "source": [
        "def add(x, y):\n",
        "    return x + y\n",
        "\n",
        "def subtract(x, y):\n",
        "    return x - y\n",
        "\n",
        "def multiply(x, y):\n",
        "    return x * y\n",
        "\n",
        "def divide(x, y):\n",
        "    if y == 0:\n",
        "        return \"Error! Division by zero.\"\n",
        "    return x / y\n",
        "\n",
        "operations = {\n",
        "    '+': add,\n",
        "    '-': subtract,\n",
        "    '*': multiply,\n",
        "    '/': divide\n",
        "}\n",
        "\n",
        "def calculator():\n",
        "    print(\"=== Basic Calculator ===\")\n",
        "\n",
        "    while True:\n",
        "        print(\"\\nOperations:\")\n",
        "        print(\"1. Addition (+)\")\n",
        "        print(\"2. Subtraction (-)\")\n",
        "        print(\"3. Multiplication (*)\")\n",
        "        print(\"4. Division (/)\")\n",
        "\n",
        "        try:\n",
        "            num1 = float(input(\"Enter first number: \"))\n",
        "            operator = input(\"Enter operation: \")\n",
        "            num2 = float(input(\"Enter second number: \"))\n",
        "\n",
        "\n",
        "            if operator in operations:\n",
        "                result = operations[operator](num1, num2)\n",
        "                print(\"Result:\", result)\n",
        "            else:\n",
        "                print(\"Invalid operation!\")\n",
        "\n",
        "            cont = input(\"Do you wish to continue? (yes/no): \").strip().lower()\n",
        "            if cont != 'yes':\n",
        "                print(\"Thank you.\")\n",
        "                break\n",
        "\n",
        "        except ValueError:\n",
        "            print(\"Please enter valid numeric inputs.\")\n",
        "\n",
        "calculator()\n"
      ],
      "metadata": {
        "colab": {
          "base_uri": "https://localhost:8080/"
        },
        "id": "Svj11pmQb8d3",
        "outputId": "4a78b005-fd4b-4716-ecc8-5236060957fe"
      },
      "execution_count": 3,
      "outputs": [
        {
          "output_type": "stream",
          "name": "stdout",
          "text": [
            "=== Basic Calculator ===\n",
            "\n",
            "Operations:\n",
            "1. Addition (+)\n",
            "2. Subtraction (-)\n",
            "3. Multiplication (*)\n",
            "4. Division (/)\n",
            "Enter first number: 10\n",
            "Enter operation: +\n",
            "Enter second number: 20\n",
            "Result: 30.0\n",
            "Do you wish to continue? (yes/no): yes\n",
            "\n",
            "Operations:\n",
            "1. Addition (+)\n",
            "2. Subtraction (-)\n",
            "3. Multiplication (*)\n",
            "4. Division (/)\n",
            "Enter first number: 2\n",
            "Enter operation: -\n",
            "Enter second number: 1\n",
            "Result: 1.0\n",
            "Do you wish to continue? (yes/no): yes\n",
            "\n",
            "Operations:\n",
            "1. Addition (+)\n",
            "2. Subtraction (-)\n",
            "3. Multiplication (*)\n",
            "4. Division (/)\n",
            "Enter first number: 10\n",
            "Enter operation: *\n",
            "Enter second number: 10\n",
            "Result: 100.0\n",
            "Do you wish to continue? (yes/no): yes\n",
            "\n",
            "Operations:\n",
            "1. Addition (+)\n",
            "2. Subtraction (-)\n",
            "3. Multiplication (*)\n",
            "4. Division (/)\n",
            "Enter first number: 10\n",
            "Enter operation: /\n",
            "Enter second number: 5\n",
            "Result: 2.0\n",
            "Do you wish to continue? (yes/no): no\n",
            "Thank you.\n"
          ]
        }
      ]
    }
  ]
}